{
 "cells": [
  {
   "cell_type": "code",
   "execution_count": 1,
   "metadata": {},
   "outputs": [],
   "source": [
    "import cv2\n",
    "import glob\n",
    "import os\n",
    "import numpy as np\n",
    "import math\n",
    "from PIL import Image\n",
    "\n",
    "bilinear_dir = os.path.join(os.getcwd(), \"bilinear\")\n",
    "pad_dir = os.path.join(os.getcwd(), \"pad\")\n",
    "nopad_dir = os.path.join(os.getcwd(), \"nopad\")\n",
    "truth_dir = os.path.join(os.getcwd(), \"truth\")"
   ]
  },
  {
   "cell_type": "code",
   "execution_count": 2,
   "metadata": {},
   "outputs": [],
   "source": [
    "# read image from directory\n",
    "img_bilinear = glob.glob(os.path.join(bilinear_dir, \"*.jpg\"))\n",
    "img_pad = glob.glob(os.path.join(pad_dir, \"*.jpg\"))\n",
    "img_nopad = glob.glob(os.path.join(nopad_dir, \"*.jpg\"))\n",
    "img_truth = glob.glob(os.path.join(truth_dir, \"*.jpg\"))"
   ]
  },
  {
   "cell_type": "code",
   "execution_count": 3,
   "metadata": {},
   "outputs": [],
   "source": [
    "# get edge\n",
    "def get_edge(image, edge = 6):\n",
    "    width, length, _ = image.shape\n",
    "    for x in range(edge, width-edge):\n",
    "        for y in range(edge, length-edge):\n",
    "            image[x,y,] = [0,0,0]\n",
    "    return(image)\n",
    "\n",
    "def psnr(img1, img2):\n",
    "    mse = np.mean( (img1 - img2) ** 2 )\n",
    "    if mse == 0:\n",
    "        return 100\n",
    "    PIXEL_MAX = 255.0\n",
    "    return 20 * math.log10(PIXEL_MAX / math.sqrt(mse))"
   ]
  },
  {
   "cell_type": "code",
   "execution_count": 4,
   "metadata": {},
   "outputs": [],
   "source": [
    "# img1 = cv2.imread(img_bilinear[0])\n",
    "# get_edge(img1)\n",
    "# i = Image.fromarray(img1)\n",
    "# i.show()\n"
   ]
  },
  {
   "cell_type": "code",
   "execution_count": 5,
   "metadata": {},
   "outputs": [
    {
     "name": "stdout",
     "output_type": "stream",
     "text": [
      "Bilinear is better for edge area\n"
     ]
    }
   ],
   "source": [
    "# compare edge\n",
    "edge = 6\n",
    "psnr_bi_pd = []\n",
    "# diff_bi_pd_sum = []\n",
    "\n",
    "for bi, pd, ti in zip(img_bilinear, img_pad, img_truth):    \n",
    "    bilinear_image = cv2.imread(bi)\n",
    "    pad_image = cv2.imread(pd)\n",
    "    truth_image = cv2.imread(ti)\n",
    "    \n",
    "    bilinear_edge = get_edge(bilinear_image)\n",
    "    pad_edge = get_edge(pad_image)\n",
    "\n",
    "    psnr1 = psnr(truth_image, bilinear_edge)\n",
    "    psnr2 = psnr(truth_image, pad_edge)\n",
    "    psnr_bi_pd.append(psnr1-psnr2)\n",
    "\n",
    "\n",
    "diff_sum1 = sum(psnr_bi_pd)\n",
    "if diff_sum1 < 0:\n",
    "    print(\"SRCNN with padding is better for edge area\")\n",
    "else:\n",
    "    print(\"Bilinear is better for edge area\")\n",
    "    \n",
    "    "
   ]
  },
  {
   "cell_type": "code",
   "execution_count": 6,
   "metadata": {},
   "outputs": [
    {
     "name": "stdout",
     "output_type": "stream",
     "text": [
      "SRCNN with no padding is better for center area\n"
     ]
    }
   ],
   "source": [
    "# compare center\n",
    "edge = 6\n",
    "psnr_npd_pd = []\n",
    "# diff_np_pd_sum = []\n",
    "\n",
    "for npd, pd in zip(img_nopad, img_pad):    \n",
    "    nopad_image = cv2.imread(np)\n",
    "    pad_image = cv2.imread(pd)\n",
    "    \n",
    "    pad_center = pad_image[6:-6, 6:-6, :]\n",
    "    \n",
    "    psnr3 = psnr(truth_image, nopad_image)\n",
    "    psnr4 = psnr(truth_image, pad_center)\n",
    "    psnr_npd_pd.append(psnr3-psnr4)\n",
    "    \n",
    "diff_sum2 = sum(psnr_npd_pd)\n",
    "if diff_sum2 < 0:\n",
    "    print(\"SRCNN with padding is better for center area\")\n",
    "else:\n",
    "    print(\"SRCNN with no padding is better for center area\")\n",
    "\n"
   ]
  },
  {
   "cell_type": "code",
   "execution_count": 7,
   "metadata": {},
   "outputs": [],
   "source": [
    "# img0 = cv2.imread('/Users/wanyiellenzheng/Documents/GitHub/Fall2018-Proj3-Sec2-grp7 copy/TensorFlow-SRCNN/pad/img_0058.jpg')\n",
    "# img0 = img0[6:-6, 6:-6, :]\n",
    "# Image.fromarray(img0).show()\n",
    "# Image.fromarray(img0).save(os.path.join(os.getcwd(), 'no_pad', 'img_0058.jpg'))"
   ]
  }
 ],
 "metadata": {
  "kernelspec": {
   "display_name": "Python 3",
   "language": "python",
   "name": "python3"
  },
  "language_info": {
   "codemirror_mode": {
    "name": "ipython",
    "version": 3
   },
   "file_extension": ".py",
   "mimetype": "text/x-python",
   "name": "python",
   "nbconvert_exporter": "python",
   "pygments_lexer": "ipython3",
   "version": "3.6.4"
  }
 },
 "nbformat": 4,
 "nbformat_minor": 2
}
